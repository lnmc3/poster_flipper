{
 "cells": [
  {
   "cell_type": "code",
   "execution_count": 2,
   "metadata": {},
   "outputs": [],
   "source": [
    "from tkinter import *\n",
    "from PIL import ImageTk,Image\n",
    "import glob\n",
    "\n",
    "root = Tk()\n",
    "root.title(\"Poster Flipper\")\n",
    "root.geometry(\"800x500\")\n",
    "root.state(\"zoomed\")\n",
    "\n",
    "poster_list = []\n",
    "\n",
    "#Add the posters inside the folder to list\n",
    "for poster in glob.glob(\"/Users/nixoncarino/Desktop/Posters/*\"):\n",
    "    poster_list.append(poster)\n",
    "\n",
    "#Create a canvas to put the image on\n",
    "poster_canvas = Canvas(root, width=800, height=500, highlightthickness=0)\n",
    "poster_canvas.pack(fill=\"both\", expand=True)\n",
    "\n",
    "resized_posters = []\n",
    "\n",
    "#Resize posters\n",
    "for poster in glob.glob(\"/Users/nixoncarino/Desktop/Posters/*\"):\n",
    "    old_poster = Image.open(poster)\n",
    "    resized_poster = old_poster.resize((800,500), Image.ANTIALIAS)\n",
    "    new_poster = ImageTk.PhotoImage(resized_poster)\n",
    "    \n",
    "    resized_posters.append(new_poster)\n",
    "\n",
    "# #Make function to flip posters\n",
    "def flip(poster_num):\n",
    "    # global curr_poster\n",
    "\n",
    "    if poster_num == len(poster_list):\n",
    "        poster_num = 0\n",
    "    \n",
    "    # curr_poster = ImageTk.PhotoImage(resized_posters[poster_num])\n",
    "    # carrier = Label(image=resized_posters[poster_num]) \n",
    "    # carrier.place(x=0, y=0, relwidth=1, relheight=1) \n",
    "\n",
    "    poster_canvas.create_image(0, 0, image=resized_posters[poster_num], anchor=NW)\n",
    "\n",
    "    root.after(4000, lambda: flip(poster_num + 1))\n",
    "\n",
    "# #Initialize index number   \n",
    "poster_index = 0\n",
    "\n",
    "# #Call Function\n",
    "flip(poster_index)\n",
    "\n",
    "root.mainloop()"
   ]
  },
  {
   "cell_type": "markdown",
   "metadata": {},
   "source": [
    "This is to test github"
   ]
  },
  {
   "cell_type": "markdown",
   "metadata": {},
   "source": []
  }
 ],
 "metadata": {
  "kernelspec": {
   "display_name": "Python 3.9.12 ('base')",
   "language": "python",
   "name": "python3"
  },
  "language_info": {
   "codemirror_mode": {
    "name": "ipython",
    "version": 3
   },
   "file_extension": ".py",
   "mimetype": "text/x-python",
   "name": "python",
   "nbconvert_exporter": "python",
   "pygments_lexer": "ipython3",
   "version": "3.9.12"
  },
  "orig_nbformat": 4,
  "vscode": {
   "interpreter": {
    "hash": "90425196080d3872eb45006ca5618c1edffd1daf3c8f844b64251cd837b5e648"
   }
  }
 },
 "nbformat": 4,
 "nbformat_minor": 2
}
